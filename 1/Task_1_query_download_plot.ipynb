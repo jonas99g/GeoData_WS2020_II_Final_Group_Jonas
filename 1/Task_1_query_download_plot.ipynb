{
 "metadata": {
  "language_info": {
   "codemirror_mode": {
    "name": "ipython",
    "version": 3
   },
   "file_extension": ".py",
   "mimetype": "text/x-python",
   "name": "python",
   "nbconvert_exporter": "python",
   "pygments_lexer": "ipython3",
   "version": "3.9.2"
  },
  "orig_nbformat": 2,
  "kernelspec": {
   "name": "python3",
   "display_name": "Python 3.9.2 64-bit",
   "metadata": {
    "interpreter": {
     "hash": "767d51c1340bd893661ea55ea3124f6de3c7a262a8b4abca0554b478b1e2ff90"
    }
   }
  }
 },
 "nbformat": 4,
 "nbformat_minor": 2,
 "cells": [
  {
   "source": [
    "## Importing necessary libaries and applying settings"
   ],
   "cell_type": "markdown",
   "metadata": {}
  },
  {
   "cell_type": "code",
   "execution_count": 1,
   "metadata": {},
   "outputs": [],
   "source": [
    "from datetime import datetime # used for time format conversion\n",
    "import os # access to host system to create directories and write files\n",
    "import ftplib # libary to access ftp server\n",
    "import urllib3 \n",
    "import codecs\n",
    "from zipfile import ZipFile # used for unzipping zip files\n",
    "import numpy as np # numpy arrays and functions for example replacing bad values with true NotaNumber\n",
    "import time\n",
    "import matplotlib.pyplot as plt\n",
    "%matplotlib inline \n",
    "# making plots available in jupyter output line\n",
    "import pandas as pd # for pandas dataframe to read csv\n",
    "#pd.options.display.max_seq_items = None # pandas printing options\n",
    "#pd.set_option('display.max_rows', 50)\n",
    "#pd.set_option('display.max_columns', 50)\n",
    "# pd.set_option('display.width', 1000)"
   ]
  },
  {
   "source": [
    "## Defining variables"
   ],
   "cell_type": "markdown",
   "metadata": {}
  },
  {
   "cell_type": "code",
   "execution_count": 2,
   "metadata": {},
   "outputs": [],
   "source": [
    "ftp_server = \"opendata.dwd.de\" # root of file server\n",
    "ftp_user = \"anonymous\"\n",
    "ftp_passwd = \"\"\n",
    "ftp_dir =  \"/climate_environment/CDC/observations_germany/climate/annual/kl/historical/\" # directory\n",
    "state = \"Bayern\" # Selected state to filter\n",
    "years = [2017, 2018, 2019] # selected years\n",
    "nyears = len(years) # length of years list\n",
    "year_from = datetime.strptime(str(years[0])+\"0101\", '%Y%m%d') # lowest year from the list\n",
    "year_to = datetime.strptime(str(years[nyears-1])+\"1231\", '%Y%m%d') # highest year from the list\n",
    "stations_fname = \"\" # initializing variable"
   ]
  },
  {
   "cell_type": "code",
   "execution_count": 3,
   "metadata": {},
   "outputs": [],
   "source": [
    "def connect_ftp(): # establishing connection to ftp server and check if it was successfull\n",
    "    ftp = ftplib.FTP(ftp_server) # creating ftp server instance\n",
    "    res = ftp.login(user = ftp_user, passwd = ftp_passwd) # logging in to server\n",
    "    ret = ftp.cwd(ftp_dir) # Changing into correct ftp directory\n",
    "    return ftp # return configured and connected ftp instance"
   ]
  },
  {
   "cell_type": "code",
   "execution_count": 4,
   "metadata": {},
   "outputs": [],
   "source": [
    "def gen_df_ftp_dir():\n",
    "    lines = [] # buffer for storing lines of ftp directory\n",
    "    flist = [] # buffer for temporarily storing station_idm, zip file names and product file name\n",
    "    try:\n",
    "        res = ftp.retrlines(\"NLST\", lines.append) # retrieve lines with NLST ftp command, which lsits file names including extention, the returned lines are appended to the lines buffer\n",
    "    except:\n",
    "        return\n",
    "    global stations_fname # setting global variable to use filename later\n",
    "    stations_fname = lines[0] # storing first line, which is the file name of the station description\n",
    "    lines.pop(0) # removing station description file from buffer to read only zip files later\n",
    "    for line in lines: # looping through elements of the lines buffer\n",
    "        pname = \"produkt_klima_jahr_\"+line.split(\"_\")[3]+\"_\"+line.split(\"_\")[4]+\"_\"+line.split(\"_\")[2]+\".txt\" # generating product file name\n",
    "        flist.append([int(line.split(\"_\")[2]), line, pname]) # reading variables into temporary list\n",
    "    df_ftp_dir = pd.DataFrame(flist,columns=[\"station_id\", \"fname\", \"pname\"]) # creating a pandas dataframe from flist, defining column names for elements in the list\n",
    "    df_ftp_dir.set_index(\"station_id\", inplace = True) # setting station_id column as index and replacing the standard numeration\n",
    "    return df_ftp_dir # return the dataframe"
   ]
  },
  {
   "cell_type": "code",
   "execution_count": 5,
   "metadata": {},
   "outputs": [],
   "source": [
    "def gen_df_station_desc_query():\n",
    "    try:\n",
    "        ftp.retrbinary('RETR '+ stations_fname, open(stations_fname, 'wb').write) # retrieve the binary code from the stations_fname file from ftp and writing to a newly opened file with the same filename\n",
    "    except:\n",
    "        return\n",
    "    dateparse = lambda dates: [datetime.strptime(str(d), '%Y%m%d') for d in dates] # function for parsing the dates from the txt, for each column in a row the value is converted to a string and parsed into a datetime object\n",
    "    df_station_desc = pd.read_fwf(stations_fname, skiprows = 2, header=None, parse_dates = [1,2], date_parser = dateparse, encoding = 'latin-1') # encoding of txt is ISO-8859-1/latin (german umlaute)\n",
    "    # Read the table of fixed-width formatted lines from stations_fname file into DataFrame, skipping 2 rows, do not set a header, so that indeces are used, the columns 1 \"von_datum\" and 2 \"bis_datum\" are parsed as dates with the function dateparse\n",
    "    os.remove(stations_fname)\n",
    "    df_station_desc.columns = [\"station_id\", \"date_from\", \"date_to\", \"altitude\", \"latitude\", \"longitude\",\"name\", \"state\"] # english column names are set\n",
    "    df_station_desc.set_index(\"station_id\", inplace = True) # setting station_id column as index and replacing the standard numeration\n",
    "    df_station_desc_query = df_station_desc.query('state == @state & date_from <= @year_from & date_to >= @year_to')\n",
    "    df_station_desc_query.to_csv(\"df_station_desc_query.csv\")\n",
    "    return df_station_desc_query"
   ]
  },
  {
   "cell_type": "code",
   "execution_count": 6,
   "metadata": {},
   "outputs": [],
   "source": [
    "def gen_df_ftp_dir_query(df_ftp_dir,df_station_desc_query):\n",
    "    stations = list(df_station_desc_query.index.values)\n",
    "    df_ftp_dir_query = df_ftp_dir.query('station_id == @stations')\n",
    "    df_ftp_dir_query.to_csv(\"df_ftp_dir_query.csv\")\n",
    "    return df_ftp_dir_query"
   ]
  },
  {
   "cell_type": "code",
   "execution_count": 7,
   "metadata": {},
   "outputs": [],
   "source": [
    "def download_stations(df_station_desc_query):\n",
    "    lst = []\n",
    "    stations = list(df_station_desc_query.index.values) \n",
    "    dateparse = lambda dates: [pd.to_datetime(d, yearfirst = True) for d in dates]\n",
    "    date1 = pd.to_datetime(str(years[0])+\"1231\", yearfirst = True)\n",
    "    date2 = pd.to_datetime(str(years[1])+\"1231\", yearfirst = True)\n",
    "    date3 = pd.to_datetime(str(years[2])+\"1231\", yearfirst = True)\n",
    "    for st_id in stations:\n",
    "        f_name = df_ftp_dir.loc[st_id,\"fname\"]\n",
    "        p_name = df_ftp_dir.loc[st_id,\"pname\"]\n",
    "        ftp.retrbinary('RETR ' + f_name, open( f_name, 'wb').write) \n",
    "\n",
    "        with ZipFile(f_name) as myzip:\n",
    "            with myzip.open(p_name) as myfile:\n",
    "                df_f = pd.read_csv(myfile, delimiter=\";\", encoding=\"utf8\", parse_dates = [\"MESS_DATUM_BEGINN\", \"MESS_DATUM_ENDE\"], date_parser = dateparse, na_values = [-999])\n",
    "                # df_f.dropna(subset=[\"JA_TT\"])\n",
    "                altitude = df_station_desc_query.loc[st_id, \"altitude\"]\n",
    "                latitude = df_station_desc_query.loc[st_id, \"latitude\"]\n",
    "                longitude = df_station_desc_query.loc[st_id, \"longitude\"]\n",
    "                name = df_station_desc_query.loc[st_id, \"name\"]\n",
    "                if df_f.query('MESS_DATUM_ENDE == @date1')[\"JA_TT\"].values.size > 0:\n",
    "                    yat_2017 = df_f.query('MESS_DATUM_ENDE == @date1')[\"JA_TT\"].values[0]\n",
    "                else: yat_2017 = np.NaN\n",
    "                if df_f.query('MESS_DATUM_ENDE == @date2')[\"JA_TT\"].values.size > 0:\n",
    "                    yat_2018 = df_f.query('MESS_DATUM_ENDE == @date2')[\"JA_TT\"].values[0]\n",
    "                else: yat_2018 = np.NaN\n",
    "                if df_f.query('MESS_DATUM_ENDE == @date3')[\"JA_TT\"].values.size > 0:\n",
    "                    yat_2019 = df_f.query('MESS_DATUM_ENDE == @date3')[\"JA_TT\"].values[0]\n",
    "                else: yat_2019 = np.NaN\n",
    "                '''\n",
    "                debugging/finding reason for empty values\n",
    "                print(\"---------------\")\n",
    "                print(st_id)\n",
    "                print(df_f.query('MESS_DATUM_ENDE == @date1')[\"JA_TT\"].values)\n",
    "                print(df_f.query('MESS_DATUM_ENDE == @date2')[\"JA_TT\"].values)\n",
    "                print(df_f.query('MESS_DATUM_ENDE == @date3')[\"JA_TT\"].values)\n",
    "                print(type(yat_2017))\n",
    "                print(type(yat_2018))\n",
    "                print(type(yat_2019))\n",
    "                print(yat_2017)\n",
    "                print(yat_2018)\n",
    "                print(yat_2019)\n",
    "                '''\n",
    "                lst.append([st_id, altitude, latitude, longitude, name, yat_2017, yat_2018, yat_2019])\n",
    "\n",
    "                # dftmp.merge(df_stations,how=\"inner\",left_on=\"stations_id\",right_on=\"station_id\",right_index=True)\n",
    "                # df = pd.merge(df, s, left_index=True, right_index=True, how='outer')\n",
    "        os.remove(f_name)\n",
    "    df = pd.DataFrame(lst, columns=[\"station_id\", \"altitude\", \"latitude\", \"longitude\", \"name\", \"yat_2017\", \"yat_2018\", \"yat_2019\"])\n",
    "    #df = df.dropna() # some values are not present for a single year, uncomment this line to only show stations with data for each year in the selection\n",
    "    df.set_index(\"station_id\", inplace = True) # setting station_id column as index and replacing the standard numeration\n",
    "    df.to_csv(\"df_all.csv\")\n",
    "    return df"
   ]
  },
  {
   "source": [],
   "cell_type": "markdown",
   "metadata": {}
  },
  {
   "source": [
    "def plot(df):\n",
    "    fig, (ax1, ax2, ax3) = plt.subplots(3)\n",
    "    fig.suptitle('A')\n",
    "    ax1.plot(df_all[\"yat_2017\"], df_all[\"altitude\"])\n",
    "    #ax1.xlabel('x')\n",
    "    #ax1.ylabel('y')\n",
    "\n",
    "    ax2.plot(df_all[\"yat_2018\"], df_all[\"altitude\"])\n",
    "    #ax2.xlabel('x')\n",
    "    #ax2.ylabel('y')\n",
    "\n",
    "    ax3.plot(df_all[\"yat_2019\"], df_all[\"altitude\"])\n",
    "    #ax3.xlabel('x')\n",
    "    #ax3.ylabel('y')\n",
    "\n",
    "    plt.show()\n",
    "    fig.savefig(\"a.png\")\n",
    "\n",
    "    '''\n",
    "    df_corr = pd.DataFrame(df_appended_ts.loc[:,o2])\n",
    "    df_corr[o1] = df_appended_ts.loc[:,o1]\n",
    "    Y = df_appended_ts.loc[:,o1].values.reshape(-1, 1)\n",
    "    X = df_appended_ts.loc[:,o2].values.reshape(-1, 1)\n",
    "    linear_regressor = LinearRegression()\n",
    "    linear_regressor.fit(X, Y)\n",
    "    score = linear_regressor.score(X, Y)\n",
    "    Y_pred = linear_regressor.predict(X)\n",
    "\n",
    "    \n",
    "    fig1, ax1 = plt.subplots(dpi=136, figsize=(8,6))\n",
    "    b = round((linear_regressor.intercept_[0]),4)\n",
    "    m = round((linear_regressor.coef_[0][0]),4)\n",
    "    sx = 0.35 * ax1.get_xlim()[1]\n",
    "    sy = 1.69 * ax1.get_ylim()[0]\n",
    "    r = round(score,4)\n",
    "    ax1.plot(X, Y_pred, color='red')\n",
    "    ax1.plot(df_plot[o2],df_plot[o1],\".\")\n",
    "    ax1.set_ylabel(po1)\n",
    "    ax1.set_xlabel(po2)\n",
    "    ax1.set_title(po1+\" vs. \"+po2+\" in Year \" + year_selected + \" at DWD Stations in \" + state+\"\\ny=\"+str(m)+\"*x+\"+str(b)+\", R^2= \"+str(r))\n",
    "\n",
    "    #ax1.text(x=sx,y=sy,s=(\"y=\"+str(m)+\"*x + \"+str(b)+\", R^2= \"+str(r)))\n",
    "\n",
    "    ax1.grid(True)\n",
    "    plt.show()\n",
    "    fig1.savefig(fpo1+\"_\"+fpo2+\"_\"+year_selected+\"_DWD_Stations_\"+state+\".png\")\n",
    "    print(\"A low R^2 value indicates, that the regression model is not fitting well (no strong correlation of data points).\\n\")\n",
    "    '''"
   ],
   "cell_type": "code",
   "metadata": {},
   "execution_count": 8,
   "outputs": []
  },
  {
   "source": [
    "## Main run function"
   ],
   "cell_type": "markdown",
   "metadata": {}
  },
  {
   "source": [
    "    print(\"connecting...\")\n",
    "    ftp = connect_ftp()\n",
    "    print(\"accessing ftp...\")\n",
    "    df_ftp_dir = gen_df_ftp_dir()\n",
    "    print(\"query...\")\n",
    "    df_station_desc_query = gen_df_station_desc_query()\n",
    "    df_ftp_dir_query = gen_df_ftp_dir_query(df_ftp_dir,df_station_desc_query)\n",
    "    print(\"downloading...\")\n",
    "    df_all = download_stations(df_station_desc_query)\n",
    "    print(\"plotting...\")\n",
    "    plot(df_all)"
   ],
   "cell_type": "code",
   "metadata": {},
   "execution_count": 9,
   "outputs": [
    {
     "output_type": "stream",
     "name": "stdout",
     "text": [
      "connecting...\n",
      "accessing ftp...\n",
      "query...\n",
      "downloading...\n",
      "plotting...\n"
     ]
    },
    {
     "output_type": "display_data",
     "data": {
      "text/plain": "<Figure size 432x288 with 3 Axes>",
      "image/svg+xml": "<?xml version=\"1.0\" encoding=\"utf-8\" standalone=\"no\"?>\n<!DOCTYPE svg PUBLIC \"-//W3C//DTD SVG 1.1//EN\"\n  \"http://www.w3.org/Graphics/SVG/1.1/DTD/svg11.dtd\">\n<svg height=\"277.318125pt\" version=\"1.1\" viewBox=\"0 0 381.65 277.318125\" width=\"381.65pt\" xmlns=\"http://www.w3.org/2000/svg\" xmlns:xlink=\"http://www.w3.org/1999/xlink\">\n <metadata>\n  <rdf:RDF xmlns:cc=\"http://creativecommons.org/ns#\" xmlns:dc=\"http://purl.org/dc/elements/1.1/\" xmlns:rdf=\"http://www.w3.org/1999/02/22-rdf-syntax-ns#\">\n   <cc:Work>\n    <dc:type rdf:resource=\"http://purl.org/dc/dcmitype/StillImage\"/>\n    <dc:date>2021-03-27T12:50:17.518363</dc:date>\n    <dc:format>image/svg+xml</dc:format>\n    <dc:creator>\n     <cc:Agent>\n      <dc:title>Matplotlib v3.4.0, https://matplotlib.org/</dc:title>\n     </cc:Agent>\n    </dc:creator>\n   </cc:Work>\n  </rdf:RDF>\n </metadata>\n <defs>\n  <style type=\"text/css\">*{stroke-linecap:butt;stroke-linejoin:round;}</style>\n </defs>\n <g id=\"figure_1\">\n  <g id=\"patch_1\">\n   <path d=\"M -0 277.318125 \nL 381.65 277.318125 \nL 381.65 0 \nL -0 0 \nz\n\" style=\"fill:none;\"/>\n  </g>\n  <g id=\"axes_1\">\n   <g id=\"patch_2\">\n    <path d=\"M 39.65 99.952941 \nL 374.45 99.952941 \nL 374.45 36 \nL 39.65 36 \nz\n\" style=\"fill:#ffffff;\"/>\n   </g>\n   <g id=\"matplotlib.axis_1\">\n    <g id=\"xtick_1\">\n     <g id=\"line2d_1\">\n      <defs>\n       <path d=\"M 0 0 \nL 0 3.5 \n\" id=\"mb0f774e526\" style=\"stroke:#000000;stroke-width:0.8;\"/>\n      </defs>\n      <g>\n       <use style=\"stroke:#000000;stroke-width:0.8;\" x=\"52.012223\" xlink:href=\"#mb0f774e526\" y=\"99.952941\"/>\n      </g>\n     </g>\n     <g id=\"text_1\">\n      <!-- −4 -->\n      <g transform=\"translate(44.641129 114.551379)scale(0.1 -0.1)\">\n       <defs>\n        <path d=\"M 678 2272 \nL 4684 2272 \nL 4684 1741 \nL 678 1741 \nL 678 2272 \nz\n\" id=\"DejaVuSans-2212\" transform=\"scale(0.015625)\"/>\n        <path d=\"M 2419 4116 \nL 825 1625 \nL 2419 1625 \nL 2419 4116 \nz\nM 2253 4666 \nL 3047 4666 \nL 3047 1625 \nL 3713 1625 \nL 3713 1100 \nL 3047 1100 \nL 3047 0 \nL 2419 0 \nL 2419 1100 \nL 313 1100 \nL 313 1709 \nL 2253 4666 \nz\n\" id=\"DejaVuSans-34\" transform=\"scale(0.015625)\"/>\n       </defs>\n       <use xlink:href=\"#DejaVuSans-2212\"/>\n       <use x=\"83.789062\" xlink:href=\"#DejaVuSans-34\"/>\n      </g>\n     </g>\n    </g>\n    <g id=\"xtick_2\">\n     <g id=\"line2d_2\">\n      <g>\n       <use style=\"stroke:#000000;stroke-width:0.8;\" x=\"92.811638\" xlink:href=\"#mb0f774e526\" y=\"99.952941\"/>\n      </g>\n     </g>\n     <g id=\"text_2\">\n      <!-- −2 -->\n      <g transform=\"translate(85.440544 114.551379)scale(0.1 -0.1)\">\n       <defs>\n        <path d=\"M 1228 531 \nL 3431 531 \nL 3431 0 \nL 469 0 \nL 469 531 \nQ 828 903 1448 1529 \nQ 2069 2156 2228 2338 \nQ 2531 2678 2651 2914 \nQ 2772 3150 2772 3378 \nQ 2772 3750 2511 3984 \nQ 2250 4219 1831 4219 \nQ 1534 4219 1204 4116 \nQ 875 4013 500 3803 \nL 500 4441 \nQ 881 4594 1212 4672 \nQ 1544 4750 1819 4750 \nQ 2544 4750 2975 4387 \nQ 3406 4025 3406 3419 \nQ 3406 3131 3298 2873 \nQ 3191 2616 2906 2266 \nQ 2828 2175 2409 1742 \nQ 1991 1309 1228 531 \nz\n\" id=\"DejaVuSans-32\" transform=\"scale(0.015625)\"/>\n       </defs>\n       <use xlink:href=\"#DejaVuSans-2212\"/>\n       <use x=\"83.789062\" xlink:href=\"#DejaVuSans-32\"/>\n      </g>\n     </g>\n    </g>\n    <g id=\"xtick_3\">\n     <g id=\"line2d_3\">\n      <g>\n       <use style=\"stroke:#000000;stroke-width:0.8;\" x=\"133.611053\" xlink:href=\"#mb0f774e526\" y=\"99.952941\"/>\n      </g>\n     </g>\n     <g id=\"text_3\">\n      <!-- 0 -->\n      <g transform=\"translate(130.429803 114.551379)scale(0.1 -0.1)\">\n       <defs>\n        <path d=\"M 2034 4250 \nQ 1547 4250 1301 3770 \nQ 1056 3291 1056 2328 \nQ 1056 1369 1301 889 \nQ 1547 409 2034 409 \nQ 2525 409 2770 889 \nQ 3016 1369 3016 2328 \nQ 3016 3291 2770 3770 \nQ 2525 4250 2034 4250 \nz\nM 2034 4750 \nQ 2819 4750 3233 4129 \nQ 3647 3509 3647 2328 \nQ 3647 1150 3233 529 \nQ 2819 -91 2034 -91 \nQ 1250 -91 836 529 \nQ 422 1150 422 2328 \nQ 422 3509 836 4129 \nQ 1250 4750 2034 4750 \nz\n\" id=\"DejaVuSans-30\" transform=\"scale(0.015625)\"/>\n       </defs>\n       <use xlink:href=\"#DejaVuSans-30\"/>\n      </g>\n     </g>\n    </g>\n    <g id=\"xtick_4\">\n     <g id=\"line2d_4\">\n      <g>\n       <use style=\"stroke:#000000;stroke-width:0.8;\" x=\"174.410468\" xlink:href=\"#mb0f774e526\" y=\"99.952941\"/>\n      </g>\n     </g>\n     <g id=\"text_4\">\n      <!-- 2 -->\n      <g transform=\"translate(171.229218 114.551379)scale(0.1 -0.1)\">\n       <use xlink:href=\"#DejaVuSans-32\"/>\n      </g>\n     </g>\n    </g>\n    <g id=\"xtick_5\">\n     <g id=\"line2d_5\">\n      <g>\n       <use style=\"stroke:#000000;stroke-width:0.8;\" x=\"215.209883\" xlink:href=\"#mb0f774e526\" y=\"99.952941\"/>\n      </g>\n     </g>\n     <g id=\"text_5\">\n      <!-- 4 -->\n      <g transform=\"translate(212.028633 114.551379)scale(0.1 -0.1)\">\n       <use xlink:href=\"#DejaVuSans-34\"/>\n      </g>\n     </g>\n    </g>\n    <g id=\"xtick_6\">\n     <g id=\"line2d_6\">\n      <g>\n       <use style=\"stroke:#000000;stroke-width:0.8;\" x=\"256.009298\" xlink:href=\"#mb0f774e526\" y=\"99.952941\"/>\n      </g>\n     </g>\n     <g id=\"text_6\">\n      <!-- 6 -->\n      <g transform=\"translate(252.828048 114.551379)scale(0.1 -0.1)\">\n       <defs>\n        <path d=\"M 2113 2584 \nQ 1688 2584 1439 2293 \nQ 1191 2003 1191 1497 \nQ 1191 994 1439 701 \nQ 1688 409 2113 409 \nQ 2538 409 2786 701 \nQ 3034 994 3034 1497 \nQ 3034 2003 2786 2293 \nQ 2538 2584 2113 2584 \nz\nM 3366 4563 \nL 3366 3988 \nQ 3128 4100 2886 4159 \nQ 2644 4219 2406 4219 \nQ 1781 4219 1451 3797 \nQ 1122 3375 1075 2522 \nQ 1259 2794 1537 2939 \nQ 1816 3084 2150 3084 \nQ 2853 3084 3261 2657 \nQ 3669 2231 3669 1497 \nQ 3669 778 3244 343 \nQ 2819 -91 2113 -91 \nQ 1303 -91 875 529 \nQ 447 1150 447 2328 \nQ 447 3434 972 4092 \nQ 1497 4750 2381 4750 \nQ 2619 4750 2861 4703 \nQ 3103 4656 3366 4563 \nz\n\" id=\"DejaVuSans-36\" transform=\"scale(0.015625)\"/>\n       </defs>\n       <use xlink:href=\"#DejaVuSans-36\"/>\n      </g>\n     </g>\n    </g>\n    <g id=\"xtick_7\">\n     <g id=\"line2d_7\">\n      <g>\n       <use style=\"stroke:#000000;stroke-width:0.8;\" x=\"296.808713\" xlink:href=\"#mb0f774e526\" y=\"99.952941\"/>\n      </g>\n     </g>\n     <g id=\"text_7\">\n      <!-- 8 -->\n      <g transform=\"translate(293.627463 114.551379)scale(0.1 -0.1)\">\n       <defs>\n        <path d=\"M 2034 2216 \nQ 1584 2216 1326 1975 \nQ 1069 1734 1069 1313 \nQ 1069 891 1326 650 \nQ 1584 409 2034 409 \nQ 2484 409 2743 651 \nQ 3003 894 3003 1313 \nQ 3003 1734 2745 1975 \nQ 2488 2216 2034 2216 \nz\nM 1403 2484 \nQ 997 2584 770 2862 \nQ 544 3141 544 3541 \nQ 544 4100 942 4425 \nQ 1341 4750 2034 4750 \nQ 2731 4750 3128 4425 \nQ 3525 4100 3525 3541 \nQ 3525 3141 3298 2862 \nQ 3072 2584 2669 2484 \nQ 3125 2378 3379 2068 \nQ 3634 1759 3634 1313 \nQ 3634 634 3220 271 \nQ 2806 -91 2034 -91 \nQ 1263 -91 848 271 \nQ 434 634 434 1313 \nQ 434 1759 690 2068 \nQ 947 2378 1403 2484 \nz\nM 1172 3481 \nQ 1172 3119 1398 2916 \nQ 1625 2713 2034 2713 \nQ 2441 2713 2670 2916 \nQ 2900 3119 2900 3481 \nQ 2900 3844 2670 4047 \nQ 2441 4250 2034 4250 \nQ 1625 4250 1398 4047 \nQ 1172 3844 1172 3481 \nz\n\" id=\"DejaVuSans-38\" transform=\"scale(0.015625)\"/>\n       </defs>\n       <use xlink:href=\"#DejaVuSans-38\"/>\n      </g>\n     </g>\n    </g>\n    <g id=\"xtick_8\">\n     <g id=\"line2d_8\">\n      <g>\n       <use style=\"stroke:#000000;stroke-width:0.8;\" x=\"337.608128\" xlink:href=\"#mb0f774e526\" y=\"99.952941\"/>\n      </g>\n     </g>\n     <g id=\"text_8\">\n      <!-- 10 -->\n      <g transform=\"translate(331.245628 114.551379)scale(0.1 -0.1)\">\n       <defs>\n        <path d=\"M 794 531 \nL 1825 531 \nL 1825 4091 \nL 703 3866 \nL 703 4441 \nL 1819 4666 \nL 2450 4666 \nL 2450 531 \nL 3481 531 \nL 3481 0 \nL 794 0 \nL 794 531 \nz\n\" id=\"DejaVuSans-31\" transform=\"scale(0.015625)\"/>\n       </defs>\n       <use xlink:href=\"#DejaVuSans-31\"/>\n       <use x=\"63.623047\" xlink:href=\"#DejaVuSans-30\"/>\n      </g>\n     </g>\n    </g>\n   </g>\n   <g id=\"matplotlib.axis_2\">\n    <g id=\"ytick_1\">\n     <g id=\"line2d_9\">\n      <defs>\n       <path d=\"M 0 0 \nL -3.5 0 \n\" id=\"m90613ba9d2\" style=\"stroke:#000000;stroke-width:0.8;\"/>\n      </defs>\n      <g>\n       <use style=\"stroke:#000000;stroke-width:0.8;\" x=\"39.65\" xlink:href=\"#m90613ba9d2\" y=\"71.029434\"/>\n      </g>\n     </g>\n     <g id=\"text_9\">\n      <!-- 500 -->\n      <g transform=\"translate(13.5625 74.828652)scale(0.1 -0.1)\">\n       <defs>\n        <path d=\"M 691 4666 \nL 3169 4666 \nL 3169 4134 \nL 1269 4134 \nL 1269 2991 \nQ 1406 3038 1543 3061 \nQ 1681 3084 1819 3084 \nQ 2600 3084 3056 2656 \nQ 3513 2228 3513 1497 \nQ 3513 744 3044 326 \nQ 2575 -91 1722 -91 \nQ 1428 -91 1123 -41 \nQ 819 9 494 109 \nL 494 744 \nQ 775 591 1075 516 \nQ 1375 441 1709 441 \nQ 2250 441 2565 725 \nQ 2881 1009 2881 1497 \nQ 2881 1984 2565 2268 \nQ 2250 2553 1709 2553 \nQ 1456 2553 1204 2497 \nQ 953 2441 691 2322 \nL 691 4666 \nz\n\" id=\"DejaVuSans-35\" transform=\"scale(0.015625)\"/>\n       </defs>\n       <use xlink:href=\"#DejaVuSans-35\"/>\n       <use x=\"63.623047\" xlink:href=\"#DejaVuSans-30\"/>\n       <use x=\"127.246094\" xlink:href=\"#DejaVuSans-30\"/>\n      </g>\n     </g>\n    </g>\n    <g id=\"ytick_2\">\n     <g id=\"line2d_10\">\n      <g>\n       <use style=\"stroke:#000000;stroke-width:0.8;\" x=\"39.65\" xlink:href=\"#m90613ba9d2\" y=\"37.845052\"/>\n      </g>\n     </g>\n     <g id=\"text_10\">\n      <!-- 1000 -->\n      <g transform=\"translate(7.2 41.64427)scale(0.1 -0.1)\">\n       <use xlink:href=\"#DejaVuSans-31\"/>\n       <use x=\"63.623047\" xlink:href=\"#DejaVuSans-30\"/>\n       <use x=\"127.246094\" xlink:href=\"#DejaVuSans-30\"/>\n       <use x=\"190.869141\" xlink:href=\"#DejaVuSans-30\"/>\n      </g>\n     </g>\n    </g>\n   </g>\n   <g id=\"line2d_11\">\n    <path clip-path=\"url(#pdf83d519f1)\" d=\"M 324.96031 81.648436 \nL 321.084365 70.299377 \nL 323.328333 78.860948 \nL 315.372447 69.967534 \nL 329.652242 89.811794 \nL 315.984438 59.746744 \nL 320.268377 73.551447 \nL 328.020266 88.285312 \nL 318.840397 80.984748 \nL 324.756312 67.644627 \nM 323.940324 76.405304 \nL 319.044394 64.923507 \nL 313.944467 81.250223 \nL 318.024409 78.72821 \nL 320.880368 74.613347 \nL 339.240105 86.426987 \nL 328.020266 72.954128 \nL 283.344906 60.742275 \nL 298.032696 56.494674 \nL 318.6364 68.640158 \nL 316.596429 70.631221 \nL 302.112637 62.534232 \nM 318.840397 74.746085 \nL 322.512345 70.963065 \nL 300.48066 66.715464 \nL 297.216707 39.371533 \nL 311.496503 58.751212 \nL 329.652242 80.055586 \nL 359.231818 97.045989 \nL 308.028552 57.423837 \nL 330.060236 85.497824 \nL 349.235961 91.404644 \nL 320.06438 85.033243 \nL 326.184292 76.60441 \nL 300.888655 54.968193 \nL 316.188435 83.639499 \nM 322.716342 78.329998 \nL 310.476517 63.397026 \nL 317.616415 83.374024 \nL 277.632988 38.906952 \nL 340.464087 88.351681 \nL 320.06438 77.268098 \nL 345.768011 70.033902 \nM 321.288362 71.958596 \nL 305.580587 74.215134 \nL 328.224263 75.343403 \nL 315.576444 79.790111 \nL 338.424117 83.374024 \nL 311.292505 69.834796 \nL 280.28495 50.720592 \nL 300.276663 64.658032 \nL 313.536473 83.374024 \nL 291.300792 45.411091 \nL 312.924482 67.777364 \nL 309.048538 69.569321 \nL 331.080222 79.989217 \nL 327.00028 74.878822 \nM 328.42826 76.670779 \nL 306.80457 73.883291 \nL 315.16845 69.834796 \nL 308.844541 77.799048 \nL 326.592286 80.586536 \nL 331.284219 70.564852 \nL 329.856239 80.453798 \nL 327.00028 80.91838 \nL 286.812856 62.202388 \nL 297.624701 70.963065 \nL 320.880368 67.047308 \nL 334.344175 83.904974 \nL 318.6364 75.01156 \nL 319.860383 72.555915 \nL 327.408274 75.077928 \nL 317.412418 67.644627 \nL 344.952023 86.426987 \nL 54.868182 40.167958 \nL 291.708786 63.397026 \nL 319.044394 72.622284 \nL 287.424848 58.684844 \nL 314.352462 74.016028 \nL 319.248391 80.188323 \nL 327.00028 85.099612 \nL 321.288362 68.972002 \nL 333.32419 84.037712 \nL 323.328333 75.741616 \nL 306.80457 56.494674 \nM 302.112637 65.388089 \nL 314.148465 72.688653 \nL 302.112637 71.095803 \nL 290.484804 62.932445 \nL 324.552315 80.91838 \nL 316.800427 81.648436 \nL 315.984438 73.883291 \nL 311.496503 64.127082 \nL 329.040251 71.693121 \nL 307.212564 50.123273 \n\" style=\"fill:none;stroke:#1f77b4;stroke-linecap:square;stroke-width:1.5;\"/>\n   </g>\n   <g id=\"patch_3\">\n    <path d=\"M 39.65 99.952941 \nL 39.65 36 \n\" style=\"fill:none;stroke:#000000;stroke-linecap:square;stroke-linejoin:miter;stroke-width:0.8;\"/>\n   </g>\n   <g id=\"patch_4\">\n    <path d=\"M 374.45 99.952941 \nL 374.45 36 \n\" style=\"fill:none;stroke:#000000;stroke-linecap:square;stroke-linejoin:miter;stroke-width:0.8;\"/>\n   </g>\n   <g id=\"patch_5\">\n    <path d=\"M 39.65 99.952941 \nL 374.45 99.952941 \n\" style=\"fill:none;stroke:#000000;stroke-linecap:square;stroke-linejoin:miter;stroke-width:0.8;\"/>\n   </g>\n   <g id=\"patch_6\">\n    <path d=\"M 39.65 36 \nL 374.45 36 \n\" style=\"fill:none;stroke:#000000;stroke-linecap:square;stroke-linejoin:miter;stroke-width:0.8;\"/>\n   </g>\n  </g>\n  <g id=\"axes_2\">\n   <g id=\"patch_7\">\n    <path d=\"M 39.65 176.696471 \nL 374.45 176.696471 \nL 374.45 112.743529 \nL 39.65 112.743529 \nz\n\" style=\"fill:#ffffff;\"/>\n   </g>\n   <g id=\"matplotlib.axis_3\">\n    <g id=\"xtick_9\">\n     <g id=\"line2d_12\">\n      <g>\n       <use style=\"stroke:#000000;stroke-width:0.8;\" x=\"74.892105\" xlink:href=\"#mb0f774e526\" y=\"176.696471\"/>\n      </g>\n     </g>\n     <g id=\"text_11\">\n      <!-- −2 -->\n      <g transform=\"translate(67.521012 191.294908)scale(0.1 -0.1)\">\n       <use xlink:href=\"#DejaVuSans-2212\"/>\n       <use x=\"83.789062\" xlink:href=\"#DejaVuSans-32\"/>\n      </g>\n     </g>\n    </g>\n    <g id=\"xtick_10\">\n     <g id=\"line2d_13\">\n      <g>\n       <use style=\"stroke:#000000;stroke-width:0.8;\" x=\"114.939952\" xlink:href=\"#mb0f774e526\" y=\"176.696471\"/>\n      </g>\n     </g>\n     <g id=\"text_12\">\n      <!-- 0 -->\n      <g transform=\"translate(111.758702 191.294908)scale(0.1 -0.1)\">\n       <use xlink:href=\"#DejaVuSans-30\"/>\n      </g>\n     </g>\n    </g>\n    <g id=\"xtick_11\">\n     <g id=\"line2d_14\">\n      <g>\n       <use style=\"stroke:#000000;stroke-width:0.8;\" x=\"154.987799\" xlink:href=\"#mb0f774e526\" y=\"176.696471\"/>\n      </g>\n     </g>\n     <g id=\"text_13\">\n      <!-- 2 -->\n      <g transform=\"translate(151.806549 191.294908)scale(0.1 -0.1)\">\n       <use xlink:href=\"#DejaVuSans-32\"/>\n      </g>\n     </g>\n    </g>\n    <g id=\"xtick_12\">\n     <g id=\"line2d_15\">\n      <g>\n       <use style=\"stroke:#000000;stroke-width:0.8;\" x=\"195.035646\" xlink:href=\"#mb0f774e526\" y=\"176.696471\"/>\n      </g>\n     </g>\n     <g id=\"text_14\">\n      <!-- 4 -->\n      <g transform=\"translate(191.854396 191.294908)scale(0.1 -0.1)\">\n       <use xlink:href=\"#DejaVuSans-34\"/>\n      </g>\n     </g>\n    </g>\n    <g id=\"xtick_13\">\n     <g id=\"line2d_16\">\n      <g>\n       <use style=\"stroke:#000000;stroke-width:0.8;\" x=\"235.083493\" xlink:href=\"#mb0f774e526\" y=\"176.696471\"/>\n      </g>\n     </g>\n     <g id=\"text_15\">\n      <!-- 6 -->\n      <g transform=\"translate(231.902243 191.294908)scale(0.1 -0.1)\">\n       <use xlink:href=\"#DejaVuSans-36\"/>\n      </g>\n     </g>\n    </g>\n    <g id=\"xtick_14\">\n     <g id=\"line2d_17\">\n      <g>\n       <use style=\"stroke:#000000;stroke-width:0.8;\" x=\"275.13134\" xlink:href=\"#mb0f774e526\" y=\"176.696471\"/>\n      </g>\n     </g>\n     <g id=\"text_16\">\n      <!-- 8 -->\n      <g transform=\"translate(271.95009 191.294908)scale(0.1 -0.1)\">\n       <use xlink:href=\"#DejaVuSans-38\"/>\n      </g>\n     </g>\n    </g>\n    <g id=\"xtick_15\">\n     <g id=\"line2d_18\">\n      <g>\n       <use style=\"stroke:#000000;stroke-width:0.8;\" x=\"315.179187\" xlink:href=\"#mb0f774e526\" y=\"176.696471\"/>\n      </g>\n     </g>\n     <g id=\"text_17\">\n      <!-- 10 -->\n      <g transform=\"translate(308.816687 191.294908)scale(0.1 -0.1)\">\n       <use xlink:href=\"#DejaVuSans-31\"/>\n       <use x=\"63.623047\" xlink:href=\"#DejaVuSans-30\"/>\n      </g>\n     </g>\n    </g>\n    <g id=\"xtick_16\">\n     <g id=\"line2d_19\">\n      <g>\n       <use style=\"stroke:#000000;stroke-width:0.8;\" x=\"355.227033\" xlink:href=\"#mb0f774e526\" y=\"176.696471\"/>\n      </g>\n     </g>\n     <g id=\"text_18\">\n      <!-- 12 -->\n      <g transform=\"translate(348.864533 191.294908)scale(0.1 -0.1)\">\n       <use xlink:href=\"#DejaVuSans-31\"/>\n       <use x=\"63.623047\" xlink:href=\"#DejaVuSans-32\"/>\n      </g>\n     </g>\n    </g>\n   </g>\n   <g id=\"matplotlib.axis_4\">\n    <g id=\"ytick_3\">\n     <g id=\"line2d_20\">\n      <g>\n       <use style=\"stroke:#000000;stroke-width:0.8;\" x=\"39.65\" xlink:href=\"#m90613ba9d2\" y=\"147.563394\"/>\n      </g>\n     </g>\n     <g id=\"text_19\">\n      <!-- 500 -->\n      <g transform=\"translate(13.5625 151.362612)scale(0.1 -0.1)\">\n       <use xlink:href=\"#DejaVuSans-35\"/>\n       <use x=\"63.623047\" xlink:href=\"#DejaVuSans-30\"/>\n       <use x=\"127.246094\" xlink:href=\"#DejaVuSans-30\"/>\n      </g>\n     </g>\n    </g>\n    <g id=\"ytick_4\">\n     <g id=\"line2d_21\">\n      <g>\n       <use style=\"stroke:#000000;stroke-width:0.8;\" x=\"39.65\" xlink:href=\"#m90613ba9d2\" y=\"114.111704\"/>\n      </g>\n     </g>\n     <g id=\"text_20\">\n      <!-- 1000 -->\n      <g transform=\"translate(7.2 117.910922)scale(0.1 -0.1)\">\n       <use xlink:href=\"#DejaVuSans-31\"/>\n       <use x=\"63.623047\" xlink:href=\"#DejaVuSans-30\"/>\n       <use x=\"127.246094\" xlink:href=\"#DejaVuSans-30\"/>\n       <use x=\"190.869141\" xlink:href=\"#DejaVuSans-30\"/>\n      </g>\n     </g>\n    </g>\n   </g>\n   <g id=\"line2d_22\">\n    <path clip-path=\"url(#pf3a7dfd0e3)\" d=\"M 329.796651 158.267934 \nL 318.383014 146.827456 \nL 322.988517 155.457993 \nL 314.778708 146.49294 \nL 326.793062 166.49705 \nL 312.375837 136.189819 \nL 316.180383 150.105722 \nL 329.99689 164.958273 \nL 316.180383 157.598901 \nL 321.386603 144.151321 \nL 324.189952 158.000321 \nL 321.787081 152.982567 \nM 317.381818 155.324186 \nL 318.783493 151.176176 \nL 341.210287 163.084978 \nL 328.394976 149.503592 \nL 281.138517 137.19337 \nL 293.35311 132.911553 \nL 318.983732 145.154872 \nL 321.787081 147.161973 \nL 305.767943 138.999761 \nL 216.060766 151.84521 \nL 315.779904 151.309983 \nL 322.788278 147.49649 \nL 297.958612 143.214674 \nL 293.953828 115.650481 \nL 308.170813 135.186268 \nM 359.231818 173.789519 \nL 304.166029 133.848201 \nL 330.397368 162.148331 \nL 348.018421 168.102731 \nL 319.183971 161.680007 \nL 328.795455 153.183278 \nL 296.757177 131.372776 \nL 315.179187 160.275036 \nL 315.379426 153.116374 \nL 311.374641 144.218225 \nL 327.39378 154.922765 \nL 304.566507 139.869505 \nL 325.791866 160.007422 \nM 339.608373 165.025176 \nL 318.983732 153.852311 \nL 341.410526 146.559843 \nL 326.592823 155.591799 \nL 316.180383 148.500041 \nL 308.371053 150.774756 \nL 325.191148 151.912113 \nL 318.383014 156.39464 \nL 339.207895 160.007422 \nL 313.577273 146.359133 \nL 279.136124 127.090959 \nL 302.363876 141.140669 \nL 313.977751 160.007422 \nL 287.546172 121.738689 \nL 311.77512 144.285128 \nL 311.57488 146.091519 \nL 331.198325 156.59535 \nL 324.79067 151.44379 \nL 324.590431 155.190379 \nL 328.595215 153.250181 \nL 311.77512 150.440239 \nL 319.183971 146.359133 \nL 304.566507 154.387538 \nL 325.191148 157.19748 \nL 328.995694 147.09507 \nL 332.199522 157.063674 \nL 330.998086 157.531997 \nL 288.14689 138.665244 \nL 298.359091 147.49649 \nL 319.58445 143.549191 \nL 333.400957 160.542649 \nL 318.383014 151.577596 \nL 318.182775 149.102171 \nL 323.388995 151.6445 \nM 348.4189 163.084978 \nL 54.868182 116.453322 \nL 289.548565 139.869505 \nL 324.79067 149.169075 \nL 287.345933 135.119365 \nL 314.578469 150.574046 \nL 321.787081 156.79606 \nL 327.594019 161.74691 \nL 315.980144 145.489389 \nL 336.204306 160.676456 \nL 322.387799 152.313534 \nL 303.965789 132.911553 \nM 302.163636 141.876606 \nL 312.175598 149.235978 \nL 301.562919 147.630297 \nL 289.548565 139.401181 \nL 327.39378 157.531997 \nL 315.980144 158.267934 \nL 313.377033 150.440239 \nL 307.169617 140.605442 \nL 327.39378 148.232427 \nL 303.565311 126.488829 \n\" style=\"fill:none;stroke:#1f77b4;stroke-linecap:square;stroke-width:1.5;\"/>\n   </g>\n   <g id=\"patch_8\">\n    <path d=\"M 39.65 176.696471 \nL 39.65 112.743529 \n\" style=\"fill:none;stroke:#000000;stroke-linecap:square;stroke-linejoin:miter;stroke-width:0.8;\"/>\n   </g>\n   <g id=\"patch_9\">\n    <path d=\"M 374.45 176.696471 \nL 374.45 112.743529 \n\" style=\"fill:none;stroke:#000000;stroke-linecap:square;stroke-linejoin:miter;stroke-width:0.8;\"/>\n   </g>\n   <g id=\"patch_10\">\n    <path d=\"M 39.65 176.696471 \nL 374.45 176.696471 \n\" style=\"fill:none;stroke:#000000;stroke-linecap:square;stroke-linejoin:miter;stroke-width:0.8;\"/>\n   </g>\n   <g id=\"patch_11\">\n    <path d=\"M 39.65 112.743529 \nL 374.45 112.743529 \n\" style=\"fill:none;stroke:#000000;stroke-linecap:square;stroke-linejoin:miter;stroke-width:0.8;\"/>\n   </g>\n  </g>\n  <g id=\"axes_3\">\n   <g id=\"patch_12\">\n    <path d=\"M 39.65 253.44 \nL 374.45 253.44 \nL 374.45 189.487059 \nL 39.65 189.487059 \nz\n\" style=\"fill:#ffffff;\"/>\n   </g>\n   <g id=\"matplotlib.axis_5\">\n    <g id=\"xtick_17\">\n     <g id=\"line2d_23\">\n      <g>\n       <use style=\"stroke:#000000;stroke-width:0.8;\" x=\"79.446672\" xlink:href=\"#mb0f774e526\" y=\"253.44\"/>\n      </g>\n     </g>\n     <g id=\"text_21\">\n      <!-- −2 -->\n      <g transform=\"translate(72.075578 268.038437)scale(0.1 -0.1)\">\n       <use xlink:href=\"#DejaVuSans-2212\"/>\n       <use x=\"83.789062\" xlink:href=\"#DejaVuSans-32\"/>\n      </g>\n     </g>\n    </g>\n    <g id=\"xtick_18\">\n     <g id=\"line2d_24\">\n      <g>\n       <use style=\"stroke:#000000;stroke-width:0.8;\" x=\"120.410822\" xlink:href=\"#mb0f774e526\" y=\"253.44\"/>\n      </g>\n     </g>\n     <g id=\"text_22\">\n      <!-- 0 -->\n      <g transform=\"translate(117.229572 268.038437)scale(0.1 -0.1)\">\n       <use xlink:href=\"#DejaVuSans-30\"/>\n      </g>\n     </g>\n    </g>\n    <g id=\"xtick_19\">\n     <g id=\"line2d_25\">\n      <g>\n       <use style=\"stroke:#000000;stroke-width:0.8;\" x=\"161.374972\" xlink:href=\"#mb0f774e526\" y=\"253.44\"/>\n      </g>\n     </g>\n     <g id=\"text_23\">\n      <!-- 2 -->\n      <g transform=\"translate(158.193722 268.038437)scale(0.1 -0.1)\">\n       <use xlink:href=\"#DejaVuSans-32\"/>\n      </g>\n     </g>\n    </g>\n    <g id=\"xtick_20\">\n     <g id=\"line2d_26\">\n      <g>\n       <use style=\"stroke:#000000;stroke-width:0.8;\" x=\"202.339123\" xlink:href=\"#mb0f774e526\" y=\"253.44\"/>\n      </g>\n     </g>\n     <g id=\"text_24\">\n      <!-- 4 -->\n      <g transform=\"translate(199.157873 268.038437)scale(0.1 -0.1)\">\n       <use xlink:href=\"#DejaVuSans-34\"/>\n      </g>\n     </g>\n    </g>\n    <g id=\"xtick_21\">\n     <g id=\"line2d_27\">\n      <g>\n       <use style=\"stroke:#000000;stroke-width:0.8;\" x=\"243.303273\" xlink:href=\"#mb0f774e526\" y=\"253.44\"/>\n      </g>\n     </g>\n     <g id=\"text_25\">\n      <!-- 6 -->\n      <g transform=\"translate(240.122023 268.038437)scale(0.1 -0.1)\">\n       <use xlink:href=\"#DejaVuSans-36\"/>\n      </g>\n     </g>\n    </g>\n    <g id=\"xtick_22\">\n     <g id=\"line2d_28\">\n      <g>\n       <use style=\"stroke:#000000;stroke-width:0.8;\" x=\"284.267423\" xlink:href=\"#mb0f774e526\" y=\"253.44\"/>\n      </g>\n     </g>\n     <g id=\"text_26\">\n      <!-- 8 -->\n      <g transform=\"translate(281.086173 268.038437)scale(0.1 -0.1)\">\n       <use xlink:href=\"#DejaVuSans-38\"/>\n      </g>\n     </g>\n    </g>\n    <g id=\"xtick_23\">\n     <g id=\"line2d_29\">\n      <g>\n       <use style=\"stroke:#000000;stroke-width:0.8;\" x=\"325.231573\" xlink:href=\"#mb0f774e526\" y=\"253.44\"/>\n      </g>\n     </g>\n     <g id=\"text_27\">\n      <!-- 10 -->\n      <g transform=\"translate(318.869073 268.038437)scale(0.1 -0.1)\">\n       <use xlink:href=\"#DejaVuSans-31\"/>\n       <use x=\"63.623047\" xlink:href=\"#DejaVuSans-30\"/>\n      </g>\n     </g>\n    </g>\n    <g id=\"xtick_24\">\n     <g id=\"line2d_30\">\n      <g>\n       <use style=\"stroke:#000000;stroke-width:0.8;\" x=\"366.195724\" xlink:href=\"#mb0f774e526\" y=\"253.44\"/>\n      </g>\n     </g>\n     <g id=\"text_28\">\n      <!-- 12 -->\n      <g transform=\"translate(359.833224 268.038437)scale(0.1 -0.1)\">\n       <use xlink:href=\"#DejaVuSans-31\"/>\n       <use x=\"63.623047\" xlink:href=\"#DejaVuSans-32\"/>\n      </g>\n     </g>\n    </g>\n   </g>\n   <g id=\"matplotlib.axis_6\">\n    <g id=\"ytick_5\">\n     <g id=\"line2d_31\">\n      <g>\n       <use style=\"stroke:#000000;stroke-width:0.8;\" x=\"39.65\" xlink:href=\"#m90613ba9d2\" y=\"224.516493\"/>\n      </g>\n     </g>\n     <g id=\"text_29\">\n      <!-- 500 -->\n      <g transform=\"translate(13.5625 228.315711)scale(0.1 -0.1)\">\n       <use xlink:href=\"#DejaVuSans-35\"/>\n       <use x=\"63.623047\" xlink:href=\"#DejaVuSans-30\"/>\n       <use x=\"127.246094\" xlink:href=\"#DejaVuSans-30\"/>\n      </g>\n     </g>\n    </g>\n    <g id=\"ytick_6\">\n     <g id=\"line2d_32\">\n      <g>\n       <use style=\"stroke:#000000;stroke-width:0.8;\" x=\"39.65\" xlink:href=\"#m90613ba9d2\" y=\"191.33211\"/>\n      </g>\n     </g>\n     <g id=\"text_30\">\n      <!-- 1000 -->\n      <g transform=\"translate(7.2 195.131329)scale(0.1 -0.1)\">\n       <use xlink:href=\"#DejaVuSans-31\"/>\n       <use x=\"63.623047\" xlink:href=\"#DejaVuSans-30\"/>\n       <use x=\"127.246094\" xlink:href=\"#DejaVuSans-30\"/>\n       <use x=\"190.869141\" xlink:href=\"#DejaVuSans-30\"/>\n      </g>\n     </g>\n    </g>\n   </g>\n   <g id=\"line2d_33\">\n    <path clip-path=\"url(#pc055af6c0d)\" d=\"M 328.508705 235.135495 \nL 321.339979 223.786436 \nL 327.07496 232.348007 \nL 316.424281 223.454592 \nL 329.123168 243.298853 \nL 316.01464 213.233803 \nL 318.267668 227.038506 \nL 331.376196 241.772371 \nL 318.677309 234.471807 \nL 324.20747 221.131686 \nL 324.20747 234.87002 \nL 322.773724 229.892362 \nL 318.677309 218.410566 \nL 316.21946 234.737282 \nL 316.629102 232.215269 \nL 321.954441 228.100406 \nL 341.002771 239.914046 \nL 330.147272 226.441187 \nL 288.363838 214.229334 \nL 297.375951 209.981733 \nL 323.797828 222.127217 \nL 320.725517 224.11828 \nL 308.231451 216.021291 \nL 221.592273 228.764093 \nL 316.21946 228.233143 \nL 324.617111 224.450124 \nL 305.363961 220.202523 \nL 298.195234 192.858592 \nL 308.845913 212.238271 \nL 331.171375 233.542644 \nL 359.231818 250.533048 \nL 302.906112 210.910896 \nL 331.581017 238.984883 \nL 349.195601 244.891703 \nL 308.845913 238.520302 \nL 330.352092 230.091469 \nL 300.038621 208.455252 \nL 318.88213 237.126558 \nM 328.303885 231.817057 \nL 305.568781 216.884085 \nL 326.665319 236.861083 \nL 276.893876 192.394011 \nL 338.135281 241.83874 \nL 318.88213 230.755156 \nL 345.099186 223.520961 \nL 328.713526 232.480744 \nL 316.424281 225.445655 \nL 308.845913 227.702193 \nL 328.099064 228.830462 \nL 315.809819 233.277169 \nL 338.749743 236.861083 \nL 312.942328 223.321855 \nL 277.303518 204.207651 \nL 308.641093 218.145091 \nL 316.21946 236.861083 \nL 287.954197 198.89815 \nL 316.21946 221.264423 \nL 316.01464 223.05638 \nL 334.448507 233.476276 \nL 328.508705 228.365881 \nL 329.532809 232.082532 \nL 330.761734 230.157838 \nL 313.761611 227.370349 \nL 320.725517 223.321855 \nL 312.737508 231.286107 \nL 329.73763 234.073595 \nL 328.099064 224.051911 \nL 331.376196 233.940857 \nL 330.966555 234.405438 \nL 294.30364 215.689447 \nL 301.882008 224.450124 \nL 323.593007 220.534367 \nL 334.653328 237.392033 \nL 319.496592 228.498618 \nL 319.496592 226.042974 \nL 326.255677 228.564987 \nL 314.171253 221.131686 \nL 349.195601 239.914046 \nL 54.868182 193.655017 \nL 292.665074 216.884085 \nL 325.436394 226.109343 \nL 287.749376 212.171902 \nL 314.580894 227.503087 \nL 321.135158 233.675382 \nL 327.689422 238.586671 \nL 320.725517 222.459061 \nL 338.749743 237.52477 \nL 324.41229 229.228675 \nL 310.074838 209.981733 \nL 322.364083 228.830462 \nL 309.460376 218.875148 \nL 313.35197 226.175712 \nL 305.773602 224.582861 \nL 296.351848 216.419503 \nL 326.460498 234.405438 \nL 317.858026 235.135495 \nL 318.88213 227.370349 \nL 305.978423 217.614141 \nL 331.990658 225.18018 \nL 304.544678 203.610332 \n\" style=\"fill:none;stroke:#1f77b4;stroke-linecap:square;stroke-width:1.5;\"/>\n   </g>\n   <g id=\"patch_13\">\n    <path d=\"M 39.65 253.44 \nL 39.65 189.487059 \n\" style=\"fill:none;stroke:#000000;stroke-linecap:square;stroke-linejoin:miter;stroke-width:0.8;\"/>\n   </g>\n   <g id=\"patch_14\">\n    <path d=\"M 374.45 253.44 \nL 374.45 189.487059 \n\" style=\"fill:none;stroke:#000000;stroke-linecap:square;stroke-linejoin:miter;stroke-width:0.8;\"/>\n   </g>\n   <g id=\"patch_15\">\n    <path d=\"M 39.65 253.44 \nL 374.45 253.44 \n\" style=\"fill:none;stroke:#000000;stroke-linecap:square;stroke-linejoin:miter;stroke-width:0.8;\"/>\n   </g>\n   <g id=\"patch_16\">\n    <path d=\"M 39.65 189.487059 \nL 374.45 189.487059 \n\" style=\"fill:none;stroke:#000000;stroke-linecap:square;stroke-linejoin:miter;stroke-width:0.8;\"/>\n   </g>\n  </g>\n  <g id=\"text_31\">\n   <!-- A -->\n   <g transform=\"translate(197.545625 16.318125)scale(0.12 -0.12)\">\n    <defs>\n     <path d=\"M 2188 4044 \nL 1331 1722 \nL 3047 1722 \nL 2188 4044 \nz\nM 1831 4666 \nL 2547 4666 \nL 4325 0 \nL 3669 0 \nL 3244 1197 \nL 1141 1197 \nL 716 0 \nL 50 0 \nL 1831 4666 \nz\n\" id=\"DejaVuSans-41\" transform=\"scale(0.015625)\"/>\n    </defs>\n    <use xlink:href=\"#DejaVuSans-41\"/>\n   </g>\n  </g>\n </g>\n <defs>\n  <clipPath id=\"pdf83d519f1\">\n   <rect height=\"63.952941\" width=\"334.8\" x=\"39.65\" y=\"36\"/>\n  </clipPath>\n  <clipPath id=\"pf3a7dfd0e3\">\n   <rect height=\"63.952941\" width=\"334.8\" x=\"39.65\" y=\"112.743529\"/>\n  </clipPath>\n  <clipPath id=\"pc055af6c0d\">\n   <rect height=\"63.952941\" width=\"334.8\" x=\"39.65\" y=\"189.487059\"/>\n  </clipPath>\n </defs>\n</svg>\n",
      "image/png": "[encoded data removed]"
     },
     "metadata": {
      "needs_background": "light"
     }
    }
   ]
  },
  {
   "cell_type": "code",
   "execution_count": 10,
   "metadata": {},
   "outputs": [
    {
     "output_type": "execute_result",
     "data": {
      "text/plain": [
       "                                                      fname  \\\n",
       "station_id                                                    \n",
       "1           jahreswerte_KL_00001_19310101_19851231_hist.zip   \n",
       "3           jahreswerte_KL_00003_18510101_20101231_hist.zip   \n",
       "44          jahreswerte_KL_00044_19720101_20191231_hist.zip   \n",
       "52          jahreswerte_KL_00052_19730101_20011231_hist.zip   \n",
       "61          jahreswerte_KL_00061_19760101_19771231_hist.zip   \n",
       "...                                                     ...   \n",
       "15963       jahreswerte_KL_15963_19530101_20031231_hist.zip   \n",
       "15965       jahreswerte_KL_15965_19700101_19831231_hist.zip   \n",
       "15979       jahreswerte_KL_15979_19480101_19781231_hist.zip   \n",
       "16085       jahreswerte_KL_16085_19610101_19611231_hist.zip   \n",
       "19087       jahreswerte_KL_19087_19580101_19941231_hist.zip   \n",
       "\n",
       "                                                     pname  \n",
       "station_id                                                  \n",
       "1           produkt_klima_jahr_19310101_19851231_00001.txt  \n",
       "3           produkt_klima_jahr_18510101_20101231_00003.txt  \n",
       "44          produkt_klima_jahr_19720101_20191231_00044.txt  \n",
       "52          produkt_klima_jahr_19730101_20011231_00052.txt  \n",
       "61          produkt_klima_jahr_19760101_19771231_00061.txt  \n",
       "...                                                    ...  \n",
       "15963       produkt_klima_jahr_19530101_20031231_15963.txt  \n",
       "15965       produkt_klima_jahr_19700101_19831231_15965.txt  \n",
       "15979       produkt_klima_jahr_19480101_19781231_15979.txt  \n",
       "16085       produkt_klima_jahr_19610101_19611231_16085.txt  \n",
       "19087       produkt_klima_jahr_19580101_19941231_19087.txt  \n",
       "\n",
       "[1076 rows x 2 columns]"
      ],
      "text/html": "<div>\n<style scoped>\n    .dataframe tbody tr th:only-of-type {\n        vertical-align: middle;\n    }\n\n    .dataframe tbody tr th {\n        vertical-align: top;\n    }\n\n    .dataframe thead th {\n        text-align: right;\n    }\n</style>\n<table border=\"1\" class=\"dataframe\">\n  <thead>\n    <tr style=\"text-align: right;\">\n      <th></th>\n      <th>fname</th>\n      <th>pname</th>\n    </tr>\n    <tr>\n      <th>station_id</th>\n      <th></th>\n      <th></th>\n    </tr>\n  </thead>\n  <tbody>\n    <tr>\n      <th>1</th>\n      <td>jahreswerte_KL_00001_19310101_19851231_hist.zip</td>\n      <td>produkt_klima_jahr_19310101_19851231_00001.txt</td>\n    </tr>\n    <tr>\n      <th>3</th>\n      <td>jahreswerte_KL_00003_18510101_20101231_hist.zip</td>\n      <td>produkt_klima_jahr_18510101_20101231_00003.txt</td>\n    </tr>\n    <tr>\n      <th>44</th>\n      <td>jahreswerte_KL_00044_19720101_20191231_hist.zip</td>\n      <td>produkt_klima_jahr_19720101_20191231_00044.txt</td>\n    </tr>\n    <tr>\n      <th>52</th>\n      <td>jahreswerte_KL_00052_19730101_20011231_hist.zip</td>\n      <td>produkt_klima_jahr_19730101_20011231_00052.txt</td>\n    </tr>\n    <tr>\n      <th>61</th>\n      <td>jahreswerte_KL_00061_19760101_19771231_hist.zip</td>\n      <td>produkt_klima_jahr_19760101_19771231_00061.txt</td>\n    </tr>\n    <tr>\n      <th>...</th>\n      <td>...</td>\n      <td>...</td>\n    </tr>\n    <tr>\n      <th>15963</th>\n      <td>jahreswerte_KL_15963_19530101_20031231_hist.zip</td>\n      <td>produkt_klima_jahr_19530101_20031231_15963.txt</td>\n    </tr>\n    <tr>\n      <th>15965</th>\n      <td>jahreswerte_KL_15965_19700101_19831231_hist.zip</td>\n      <td>produkt_klima_jahr_19700101_19831231_15965.txt</td>\n    </tr>\n    <tr>\n      <th>15979</th>\n      <td>jahreswerte_KL_15979_19480101_19781231_hist.zip</td>\n      <td>produkt_klima_jahr_19480101_19781231_15979.txt</td>\n    </tr>\n    <tr>\n      <th>16085</th>\n      <td>jahreswerte_KL_16085_19610101_19611231_hist.zip</td>\n      <td>produkt_klima_jahr_19610101_19611231_16085.txt</td>\n    </tr>\n    <tr>\n      <th>19087</th>\n      <td>jahreswerte_KL_19087_19580101_19941231_hist.zip</td>\n      <td>produkt_klima_jahr_19580101_19941231_19087.txt</td>\n    </tr>\n  </tbody>\n</table>\n<p>1076 rows × 2 columns</p>\n</div>"
     },
     "metadata": {},
     "execution_count": 10
    }
   ],
   "source": [
    "df_ftp_dir"
   ]
  },
  {
   "cell_type": "code",
   "execution_count": 11,
   "metadata": {},
   "outputs": [
    {
     "output_type": "execute_result",
     "data": {
      "text/plain": [
       "                                                      fname  \\\n",
       "station_id                                                    \n",
       "73          jahreswerte_KL_00073_19530101_20191231_hist.zip   \n",
       "142         jahreswerte_KL_00142_19550101_20191231_hist.zip   \n",
       "151         jahreswerte_KL_00151_18810101_20191231_hist.zip   \n",
       "154         jahreswerte_KL_00154_19940101_20191231_hist.zip   \n",
       "191         jahreswerte_KL_00191_18840101_20191231_hist.zip   \n",
       "...                                                     ...   \n",
       "7412        jahreswerte_KL_07412_20070101_20191231_hist.zip   \n",
       "7424        jahreswerte_KL_07424_20070101_20191231_hist.zip   \n",
       "7431        jahreswerte_KL_07431_20080101_20191231_hist.zip   \n",
       "13710       jahreswerte_KL_13710_20090101_20191231_hist.zip   \n",
       "15555       jahreswerte_KL_15555_20170101_20191231_hist.zip   \n",
       "\n",
       "                                                     pname  \n",
       "station_id                                                  \n",
       "73          produkt_klima_jahr_19530101_20191231_00073.txt  \n",
       "142         produkt_klima_jahr_19550101_20191231_00142.txt  \n",
       "151         produkt_klima_jahr_18810101_20191231_00151.txt  \n",
       "154         produkt_klima_jahr_19940101_20191231_00154.txt  \n",
       "191         produkt_klima_jahr_18840101_20191231_00191.txt  \n",
       "...                                                    ...  \n",
       "7412        produkt_klima_jahr_20070101_20191231_07412.txt  \n",
       "7424        produkt_klima_jahr_20070101_20191231_07424.txt  \n",
       "7431        produkt_klima_jahr_20080101_20191231_07431.txt  \n",
       "13710       produkt_klima_jahr_20090101_20191231_13710.txt  \n",
       "15555       produkt_klima_jahr_20170101_20191231_15555.txt  \n",
       "\n",
       "[102 rows x 2 columns]"
      ],
      "text/html": "<div>\n<style scoped>\n    .dataframe tbody tr th:only-of-type {\n        vertical-align: middle;\n    }\n\n    .dataframe tbody tr th {\n        vertical-align: top;\n    }\n\n    .dataframe thead th {\n        text-align: right;\n    }\n</style>\n<table border=\"1\" class=\"dataframe\">\n  <thead>\n    <tr style=\"text-align: right;\">\n      <th></th>\n      <th>fname</th>\n      <th>pname</th>\n    </tr>\n    <tr>\n      <th>station_id</th>\n      <th></th>\n      <th></th>\n    </tr>\n  </thead>\n  <tbody>\n    <tr>\n      <th>73</th>\n      <td>jahreswerte_KL_00073_19530101_20191231_hist.zip</td>\n      <td>produkt_klima_jahr_19530101_20191231_00073.txt</td>\n    </tr>\n    <tr>\n      <th>142</th>\n      <td>jahreswerte_KL_00142_19550101_20191231_hist.zip</td>\n      <td>produkt_klima_jahr_19550101_20191231_00142.txt</td>\n    </tr>\n    <tr>\n      <th>151</th>\n      <td>jahreswerte_KL_00151_18810101_20191231_hist.zip</td>\n      <td>produkt_klima_jahr_18810101_20191231_00151.txt</td>\n    </tr>\n    <tr>\n      <th>154</th>\n      <td>jahreswerte_KL_00154_19940101_20191231_hist.zip</td>\n      <td>produkt_klima_jahr_19940101_20191231_00154.txt</td>\n    </tr>\n    <tr>\n      <th>191</th>\n      <td>jahreswerte_KL_00191_18840101_20191231_hist.zip</td>\n      <td>produkt_klima_jahr_18840101_20191231_00191.txt</td>\n    </tr>\n    <tr>\n      <th>...</th>\n      <td>...</td>\n      <td>...</td>\n    </tr>\n    <tr>\n      <th>7412</th>\n      <td>jahreswerte_KL_07412_20070101_20191231_hist.zip</td>\n      <td>produkt_klima_jahr_20070101_20191231_07412.txt</td>\n    </tr>\n    <tr>\n      <th>7424</th>\n      <td>jahreswerte_KL_07424_20070101_20191231_hist.zip</td>\n      <td>produkt_klima_jahr_20070101_20191231_07424.txt</td>\n    </tr>\n    <tr>\n      <th>7431</th>\n      <td>jahreswerte_KL_07431_20080101_20191231_hist.zip</td>\n      <td>produkt_klima_jahr_20080101_20191231_07431.txt</td>\n    </tr>\n    <tr>\n      <th>13710</th>\n      <td>jahreswerte_KL_13710_20090101_20191231_hist.zip</td>\n      <td>produkt_klima_jahr_20090101_20191231_13710.txt</td>\n    </tr>\n    <tr>\n      <th>15555</th>\n      <td>jahreswerte_KL_15555_20170101_20191231_hist.zip</td>\n      <td>produkt_klima_jahr_20170101_20191231_15555.txt</td>\n    </tr>\n  </tbody>\n</table>\n<p>102 rows × 2 columns</p>\n</div>"
     },
     "metadata": {},
     "execution_count": 11
    }
   ],
   "source": [
    "df_ftp_dir_query"
   ]
  },
  {
   "cell_type": "code",
   "execution_count": 12,
   "metadata": {},
   "outputs": [
    {
     "output_type": "execute_result",
     "data": {
      "text/plain": [
       "            date_from    date_to  altitude  latitude  longitude  \\\n",
       "station_id                                                        \n",
       "73         1953-01-01 2020-12-31       340   48.6159    13.0506   \n",
       "142        1955-01-01 2020-12-31       511   48.4060    11.3117   \n",
       "151        1881-01-01 2020-12-31       382   49.4691    11.8546   \n",
       "154        1994-01-01 2020-12-31       516   48.0197    12.2925   \n",
       "191        1884-01-01 2020-12-31       217   49.9694     9.9114   \n",
       "...               ...        ...       ...       ...        ...   \n",
       "7412       2006-10-01 2020-12-31       340   50.0083     9.4238   \n",
       "7424       2007-01-01 2020-12-31       457   47.7724    12.9073   \n",
       "7431       2008-01-01 2020-12-31       604   48.0130    11.5524   \n",
       "13710      2009-01-01 2020-12-31       490   48.5734    12.2576   \n",
       "15555      2017-01-01 2020-12-31       815   47.8761    10.5849   \n",
       "\n",
       "                               name   state  \n",
       "station_id                                   \n",
       "73             Aldersbach-Kriestorf  Bayern  \n",
       "142           Altomünster-Maisbrunn  Bayern  \n",
       "151         Amberg-Unterammersricht  Bayern  \n",
       "154                Amerang-Pfaffing  Bayern  \n",
       "191              Arnstein-Müdesheim  Bayern  \n",
       "...                             ...     ...  \n",
       "7412             Neuhütten/Spessart  Bayern  \n",
       "7424                         Piding  Bayern  \n",
       "7431           Oberhaching-Laufzorn  Bayern  \n",
       "13710              Landshut-Reithof  Bayern  \n",
       "15555         Kaufbeuren-Oberbeuren  Bayern  \n",
       "\n",
       "[102 rows x 7 columns]"
      ],
      "text/html": "<div>\n<style scoped>\n    .dataframe tbody tr th:only-of-type {\n        vertical-align: middle;\n    }\n\n    .dataframe tbody tr th {\n        vertical-align: top;\n    }\n\n    .dataframe thead th {\n        text-align: right;\n    }\n</style>\n<table border=\"1\" class=\"dataframe\">\n  <thead>\n    <tr style=\"text-align: right;\">\n      <th></th>\n      <th>date_from</th>\n      <th>date_to</th>\n      <th>altitude</th>\n      <th>latitude</th>\n      <th>longitude</th>\n      <th>name</th>\n      <th>state</th>\n    </tr>\n    <tr>\n      <th>station_id</th>\n      <th></th>\n      <th></th>\n      <th></th>\n      <th></th>\n      <th></th>\n      <th></th>\n      <th></th>\n    </tr>\n  </thead>\n  <tbody>\n    <tr>\n      <th>73</th>\n      <td>1953-01-01</td>\n      <td>2020-12-31</td>\n      <td>340</td>\n      <td>48.6159</td>\n      <td>13.0506</td>\n      <td>Aldersbach-Kriestorf</td>\n      <td>Bayern</td>\n    </tr>\n    <tr>\n      <th>142</th>\n      <td>1955-01-01</td>\n      <td>2020-12-31</td>\n      <td>511</td>\n      <td>48.4060</td>\n      <td>11.3117</td>\n      <td>Altomünster-Maisbrunn</td>\n      <td>Bayern</td>\n    </tr>\n    <tr>\n      <th>151</th>\n      <td>1881-01-01</td>\n      <td>2020-12-31</td>\n      <td>382</td>\n      <td>49.4691</td>\n      <td>11.8546</td>\n      <td>Amberg-Unterammersricht</td>\n      <td>Bayern</td>\n    </tr>\n    <tr>\n      <th>154</th>\n      <td>1994-01-01</td>\n      <td>2020-12-31</td>\n      <td>516</td>\n      <td>48.0197</td>\n      <td>12.2925</td>\n      <td>Amerang-Pfaffing</td>\n      <td>Bayern</td>\n    </tr>\n    <tr>\n      <th>191</th>\n      <td>1884-01-01</td>\n      <td>2020-12-31</td>\n      <td>217</td>\n      <td>49.9694</td>\n      <td>9.9114</td>\n      <td>Arnstein-Müdesheim</td>\n      <td>Bayern</td>\n    </tr>\n    <tr>\n      <th>...</th>\n      <td>...</td>\n      <td>...</td>\n      <td>...</td>\n      <td>...</td>\n      <td>...</td>\n      <td>...</td>\n      <td>...</td>\n    </tr>\n    <tr>\n      <th>7412</th>\n      <td>2006-10-01</td>\n      <td>2020-12-31</td>\n      <td>340</td>\n      <td>50.0083</td>\n      <td>9.4238</td>\n      <td>Neuhütten/Spessart</td>\n      <td>Bayern</td>\n    </tr>\n    <tr>\n      <th>7424</th>\n      <td>2007-01-01</td>\n      <td>2020-12-31</td>\n      <td>457</td>\n      <td>47.7724</td>\n      <td>12.9073</td>\n      <td>Piding</td>\n      <td>Bayern</td>\n    </tr>\n    <tr>\n      <th>7431</th>\n      <td>2008-01-01</td>\n      <td>2020-12-31</td>\n      <td>604</td>\n      <td>48.0130</td>\n      <td>11.5524</td>\n      <td>Oberhaching-Laufzorn</td>\n      <td>Bayern</td>\n    </tr>\n    <tr>\n      <th>13710</th>\n      <td>2009-01-01</td>\n      <td>2020-12-31</td>\n      <td>490</td>\n      <td>48.5734</td>\n      <td>12.2576</td>\n      <td>Landshut-Reithof</td>\n      <td>Bayern</td>\n    </tr>\n    <tr>\n      <th>15555</th>\n      <td>2017-01-01</td>\n      <td>2020-12-31</td>\n      <td>815</td>\n      <td>47.8761</td>\n      <td>10.5849</td>\n      <td>Kaufbeuren-Oberbeuren</td>\n      <td>Bayern</td>\n    </tr>\n  </tbody>\n</table>\n<p>102 rows × 7 columns</p>\n</div>"
     },
     "metadata": {},
     "execution_count": 12
    }
   ],
   "source": [
    "df_station_desc_query"
   ]
  },
  {
   "cell_type": "code",
   "execution_count": 13,
   "metadata": {},
   "outputs": [
    {
     "output_type": "execute_result",
     "data": {
      "text/plain": [
       "            altitude  latitude  longitude                     name  yat_2017  \\\n",
       "station_id                                                                     \n",
       "73               340   48.6159    13.0506     Aldersbach-Kriestorf      9.38   \n",
       "142              511   48.4060    11.3117    Altomünster-Maisbrunn      9.19   \n",
       "151              382   49.4691    11.8546  Amberg-Unterammersricht      9.30   \n",
       "154              516   48.0197    12.2925         Amerang-Pfaffing      8.91   \n",
       "191              217   49.9694     9.9114       Arnstein-Müdesheim      9.61   \n",
       "...              ...       ...        ...                      ...       ...   \n",
       "7412             340   50.0083     9.4238       Neuhütten/Spessart      8.98   \n",
       "7424             457   47.7724    12.9073                   Piding      8.94   \n",
       "7431             604   48.0130    11.5524     Oberhaching-Laufzorn      8.72   \n",
       "13710            490   48.5734    12.2576         Landshut-Reithof      9.58   \n",
       "15555            815   47.8761    10.5849    Kaufbeuren-Oberbeuren      8.51   \n",
       "\n",
       "            yat_2018  yat_2019  \n",
       "station_id                      \n",
       "73             10.73     10.16  \n",
       "142            10.16      9.81  \n",
       "151            10.39     10.09  \n",
       "154             9.98      9.57  \n",
       "191            10.58     10.19  \n",
       "...              ...       ...  \n",
       "7412           10.04      9.64  \n",
       "7424            9.91      9.69  \n",
       "7431            9.60      9.06  \n",
       "13710          10.61     10.33  \n",
       "15555           9.42      8.99  \n",
       "\n",
       "[102 rows x 7 columns]"
      ],
      "text/html": "<div>\n<style scoped>\n    .dataframe tbody tr th:only-of-type {\n        vertical-align: middle;\n    }\n\n    .dataframe tbody tr th {\n        vertical-align: top;\n    }\n\n    .dataframe thead th {\n        text-align: right;\n    }\n</style>\n<table border=\"1\" class=\"dataframe\">\n  <thead>\n    <tr style=\"text-align: right;\">\n      <th></th>\n      <th>altitude</th>\n      <th>latitude</th>\n      <th>longitude</th>\n      <th>name</th>\n      <th>yat_2017</th>\n      <th>yat_2018</th>\n      <th>yat_2019</th>\n    </tr>\n    <tr>\n      <th>station_id</th>\n      <th></th>\n      <th></th>\n      <th></th>\n      <th></th>\n      <th></th>\n      <th></th>\n      <th></th>\n    </tr>\n  </thead>\n  <tbody>\n    <tr>\n      <th>73</th>\n      <td>340</td>\n      <td>48.6159</td>\n      <td>13.0506</td>\n      <td>Aldersbach-Kriestorf</td>\n      <td>9.38</td>\n      <td>10.73</td>\n      <td>10.16</td>\n    </tr>\n    <tr>\n      <th>142</th>\n      <td>511</td>\n      <td>48.4060</td>\n      <td>11.3117</td>\n      <td>Altomünster-Maisbrunn</td>\n      <td>9.19</td>\n      <td>10.16</td>\n      <td>9.81</td>\n    </tr>\n    <tr>\n      <th>151</th>\n      <td>382</td>\n      <td>49.4691</td>\n      <td>11.8546</td>\n      <td>Amberg-Unterammersricht</td>\n      <td>9.30</td>\n      <td>10.39</td>\n      <td>10.09</td>\n    </tr>\n    <tr>\n      <th>154</th>\n      <td>516</td>\n      <td>48.0197</td>\n      <td>12.2925</td>\n      <td>Amerang-Pfaffing</td>\n      <td>8.91</td>\n      <td>9.98</td>\n      <td>9.57</td>\n    </tr>\n    <tr>\n      <th>191</th>\n      <td>217</td>\n      <td>49.9694</td>\n      <td>9.9114</td>\n      <td>Arnstein-Müdesheim</td>\n      <td>9.61</td>\n      <td>10.58</td>\n      <td>10.19</td>\n    </tr>\n    <tr>\n      <th>...</th>\n      <td>...</td>\n      <td>...</td>\n      <td>...</td>\n      <td>...</td>\n      <td>...</td>\n      <td>...</td>\n      <td>...</td>\n    </tr>\n    <tr>\n      <th>7412</th>\n      <td>340</td>\n      <td>50.0083</td>\n      <td>9.4238</td>\n      <td>Neuhütten/Spessart</td>\n      <td>8.98</td>\n      <td>10.04</td>\n      <td>9.64</td>\n    </tr>\n    <tr>\n      <th>7424</th>\n      <td>457</td>\n      <td>47.7724</td>\n      <td>12.9073</td>\n      <td>Piding</td>\n      <td>8.94</td>\n      <td>9.91</td>\n      <td>9.69</td>\n    </tr>\n    <tr>\n      <th>7431</th>\n      <td>604</td>\n      <td>48.0130</td>\n      <td>11.5524</td>\n      <td>Oberhaching-Laufzorn</td>\n      <td>8.72</td>\n      <td>9.60</td>\n      <td>9.06</td>\n    </tr>\n    <tr>\n      <th>13710</th>\n      <td>490</td>\n      <td>48.5734</td>\n      <td>12.2576</td>\n      <td>Landshut-Reithof</td>\n      <td>9.58</td>\n      <td>10.61</td>\n      <td>10.33</td>\n    </tr>\n    <tr>\n      <th>15555</th>\n      <td>815</td>\n      <td>47.8761</td>\n      <td>10.5849</td>\n      <td>Kaufbeuren-Oberbeuren</td>\n      <td>8.51</td>\n      <td>9.42</td>\n      <td>8.99</td>\n    </tr>\n  </tbody>\n</table>\n<p>102 rows × 7 columns</p>\n</div>"
     },
     "metadata": {},
     "execution_count": 13
    }
   ],
   "source": [
    "df_all"
   ]
  },
  {
   "source": [
    "df.replace(to_replace = -999,value = (np.nan),inplace=True)\n",
    "df = df.dropna(subset = [(str(o1)),(str(o2))])"
   ],
   "cell_type": "markdown",
   "metadata": {}
  }
 ]
}